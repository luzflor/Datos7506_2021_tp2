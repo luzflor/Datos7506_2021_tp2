{
 "cells": [
  {
   "cell_type": "code",
   "execution_count": 3,
   "metadata": {},
   "outputs": [],
   "source": [
    "%matplotlib inline\n",
    "\n",
    "from pathlib import Path\n",
    "\n",
    "import numpy as np\n",
    "import pandas as pd\n",
    "\n",
    "import matplotlib.pyplot as plt\n",
    "import seaborn as sns\n",
    "from sklearn.model_selection import train_test_split"
   ]
  },
  {
   "cell_type": "code",
   "execution_count": 4,
   "metadata": {},
   "outputs": [],
   "source": [
    "train_values = pd.read_csv('train_values.csv', index_col='building_id')\n",
    "train_labels = pd.read_csv('train_labels.csv', index_col='building_id')"
   ]
  },
  {
   "cell_type": "code",
   "execution_count": 5,
   "metadata": {},
   "outputs": [],
   "source": [
    "test_values = pd.read_csv('test_values.csv', index_col='building_id')"
   ]
  },
  {
   "cell_type": "code",
   "execution_count": 6,
   "metadata": {},
   "outputs": [
    {
     "data": {
      "text/plain": [
       "geo_level_1_id                             int64\n",
       "geo_level_2_id                             int64\n",
       "geo_level_3_id                             int64\n",
       "count_floors_pre_eq                        int64\n",
       "age                                        int64\n",
       "area_percentage                            int64\n",
       "height_percentage                          int64\n",
       "land_surface_condition                    object\n",
       "foundation_type                           object\n",
       "roof_type                                 object\n",
       "ground_floor_type                         object\n",
       "other_floor_type                          object\n",
       "position                                  object\n",
       "plan_configuration                        object\n",
       "has_superstructure_adobe_mud               int64\n",
       "has_superstructure_mud_mortar_stone        int64\n",
       "has_superstructure_stone_flag              int64\n",
       "has_superstructure_cement_mortar_stone     int64\n",
       "has_superstructure_mud_mortar_brick        int64\n",
       "has_superstructure_cement_mortar_brick     int64\n",
       "has_superstructure_timber                  int64\n",
       "has_superstructure_bamboo                  int64\n",
       "has_superstructure_rc_non_engineered       int64\n",
       "has_superstructure_rc_engineered           int64\n",
       "has_superstructure_other                   int64\n",
       "legal_ownership_status                    object\n",
       "count_families                             int64\n",
       "has_secondary_use                          int64\n",
       "has_secondary_use_agriculture              int64\n",
       "has_secondary_use_hotel                    int64\n",
       "has_secondary_use_rental                   int64\n",
       "has_secondary_use_institution              int64\n",
       "has_secondary_use_school                   int64\n",
       "has_secondary_use_industry                 int64\n",
       "has_secondary_use_health_post              int64\n",
       "has_secondary_use_gov_office               int64\n",
       "has_secondary_use_use_police               int64\n",
       "has_secondary_use_other                    int64\n",
       "dtype: object"
      ]
     },
     "execution_count": 6,
     "metadata": {},
     "output_type": "execute_result"
    }
   ],
   "source": [
    "train_values.dtypes"
   ]
  },
  {
   "cell_type": "code",
   "execution_count": 7,
   "metadata": {},
   "outputs": [],
   "source": [
    "columnas = ['land_surface_condition',\n",
    "            'foundation_type',\n",
    "            'roof_type',\n",
    "            'ground_floor_type',\n",
    "            'other_floor_type',\n",
    "            'position',\n",
    "            'plan_configuration',\n",
    "            'legal_ownership_status',\n",
    "            'geo_level_1_id',\n",
    "            'geo_level_2_id',\n",
    "            'geo_level_3_id'];"
   ]
  },
  {
   "cell_type": "code",
   "execution_count": 8,
   "metadata": {},
   "outputs": [],
   "source": [
    "for row in columnas:\n",
    "  # Calculamos la frecuencia por cada grado de cada valor de la variable\n",
    "  Auxiliar = test_values.groupby([row]).size()/len(test_values);\n",
    "\n",
    "  # Reemplazamos la columna por la columna de frecuencias\n",
    "  test_values.loc[:,row] = test_values[row].map(Auxiliar);"
   ]
  },
  {
   "cell_type": "code",
   "execution_count": 9,
   "metadata": {},
   "outputs": [],
   "source": [
    "for row in columnas:\n",
    "  # Calculamos la frecuencia por cada grado de cada valor de la variable\n",
    "  Auxiliar = train_values.groupby([row]).size()/len(train_values);\n",
    "\n",
    "  # Reemplazamos la columna por la columna de frecuencias\n",
    "  train_values.loc[:,row] = train_values[row].map(Auxiliar);"
   ]
  },
  {
   "cell_type": "code",
   "execution_count": 10,
   "metadata": {},
   "outputs": [
    {
     "name": "stdout",
     "output_type": "stream",
     "text": [
      "<class 'pandas.core.frame.DataFrame'>\n",
      "Int64Index: 260601 entries, 802906 to 747594\n",
      "Data columns (total 38 columns):\n",
      " #   Column                                  Non-Null Count   Dtype  \n",
      "---  ------                                  --------------   -----  \n",
      " 0   geo_level_1_id                          260601 non-null  float64\n",
      " 1   geo_level_2_id                          260601 non-null  float64\n",
      " 2   geo_level_3_id                          260601 non-null  float64\n",
      " 3   count_floors_pre_eq                     260601 non-null  int64  \n",
      " 4   age                                     260601 non-null  int64  \n",
      " 5   area_percentage                         260601 non-null  int64  \n",
      " 6   height_percentage                       260601 non-null  int64  \n",
      " 7   land_surface_condition                  260601 non-null  float64\n",
      " 8   foundation_type                         260601 non-null  float64\n",
      " 9   roof_type                               260601 non-null  float64\n",
      " 10  ground_floor_type                       260601 non-null  float64\n",
      " 11  other_floor_type                        260601 non-null  float64\n",
      " 12  position                                260601 non-null  float64\n",
      " 13  plan_configuration                      260601 non-null  float64\n",
      " 14  has_superstructure_adobe_mud            260601 non-null  int64  \n",
      " 15  has_superstructure_mud_mortar_stone     260601 non-null  int64  \n",
      " 16  has_superstructure_stone_flag           260601 non-null  int64  \n",
      " 17  has_superstructure_cement_mortar_stone  260601 non-null  int64  \n",
      " 18  has_superstructure_mud_mortar_brick     260601 non-null  int64  \n",
      " 19  has_superstructure_cement_mortar_brick  260601 non-null  int64  \n",
      " 20  has_superstructure_timber               260601 non-null  int64  \n",
      " 21  has_superstructure_bamboo               260601 non-null  int64  \n",
      " 22  has_superstructure_rc_non_engineered    260601 non-null  int64  \n",
      " 23  has_superstructure_rc_engineered        260601 non-null  int64  \n",
      " 24  has_superstructure_other                260601 non-null  int64  \n",
      " 25  legal_ownership_status                  260601 non-null  float64\n",
      " 26  count_families                          260601 non-null  int64  \n",
      " 27  has_secondary_use                       260601 non-null  int64  \n",
      " 28  has_secondary_use_agriculture           260601 non-null  int64  \n",
      " 29  has_secondary_use_hotel                 260601 non-null  int64  \n",
      " 30  has_secondary_use_rental                260601 non-null  int64  \n",
      " 31  has_secondary_use_institution           260601 non-null  int64  \n",
      " 32  has_secondary_use_school                260601 non-null  int64  \n",
      " 33  has_secondary_use_industry              260601 non-null  int64  \n",
      " 34  has_secondary_use_health_post           260601 non-null  int64  \n",
      " 35  has_secondary_use_gov_office            260601 non-null  int64  \n",
      " 36  has_secondary_use_use_police            260601 non-null  int64  \n",
      " 37  has_secondary_use_other                 260601 non-null  int64  \n",
      "dtypes: float64(11), int64(27)\n",
      "memory usage: 77.5 MB\n"
     ]
    }
   ],
   "source": [
    "train_values.info()"
   ]
  },
  {
   "cell_type": "code",
   "execution_count": 11,
   "metadata": {},
   "outputs": [],
   "source": [
    "selected_features = ['land_surface_condition',\n",
    "            'foundation_type',\n",
    "            'roof_type',\n",
    "            'ground_floor_type',\n",
    "            'other_floor_type',\n",
    "            'position',\n",
    "            'plan_configuration',\n",
    "            'legal_ownership_status',\n",
    "            'geo_level_1_id',\n",
    "            'geo_level_2_id',\n",
    "            'geo_level_3_id'];\n",
    "train_values_subset = train_values[selected_features]"
   ]
  },
  {
   "cell_type": "code",
   "execution_count": 12,
   "metadata": {},
   "outputs": [
    {
     "data": {
      "text/html": [
       "<div>\n",
       "<style scoped>\n",
       "    .dataframe tbody tr th:only-of-type {\n",
       "        vertical-align: middle;\n",
       "    }\n",
       "\n",
       "    .dataframe tbody tr th {\n",
       "        vertical-align: top;\n",
       "    }\n",
       "\n",
       "    .dataframe thead th {\n",
       "        text-align: right;\n",
       "    }\n",
       "</style>\n",
       "<table border=\"1\" class=\"dataframe\">\n",
       "  <thead>\n",
       "    <tr style=\"text-align: right;\">\n",
       "      <th></th>\n",
       "      <th>land_surface_condition</th>\n",
       "      <th>foundation_type</th>\n",
       "      <th>roof_type</th>\n",
       "      <th>ground_floor_type</th>\n",
       "      <th>other_floor_type</th>\n",
       "      <th>position</th>\n",
       "      <th>plan_configuration</th>\n",
       "      <th>legal_ownership_status</th>\n",
       "      <th>geo_level_1_id</th>\n",
       "      <th>geo_level_2_id</th>\n",
       "      <th>geo_level_3_id</th>\n",
       "    </tr>\n",
       "    <tr>\n",
       "      <th>building_id</th>\n",
       "      <th></th>\n",
       "      <th></th>\n",
       "      <th></th>\n",
       "      <th></th>\n",
       "      <th></th>\n",
       "      <th></th>\n",
       "      <th></th>\n",
       "      <th></th>\n",
       "      <th></th>\n",
       "      <th></th>\n",
       "      <th></th>\n",
       "    </tr>\n",
       "  </thead>\n",
       "  <tbody>\n",
       "    <tr>\n",
       "      <th>802906</th>\n",
       "      <td>0.831758</td>\n",
       "      <td>0.841117</td>\n",
       "      <td>0.701617</td>\n",
       "      <td>0.804368</td>\n",
       "      <td>0.634234</td>\n",
       "      <td>0.164604</td>\n",
       "      <td>0.959597</td>\n",
       "      <td>0.962924</td>\n",
       "      <td>0.093557</td>\n",
       "      <td>0.001036</td>\n",
       "      <td>0.000142</td>\n",
       "    </tr>\n",
       "    <tr>\n",
       "      <th>28830</th>\n",
       "      <td>0.031911</td>\n",
       "      <td>0.841117</td>\n",
       "      <td>0.701617</td>\n",
       "      <td>0.095460</td>\n",
       "      <td>0.634234</td>\n",
       "      <td>0.775477</td>\n",
       "      <td>0.959597</td>\n",
       "      <td>0.962924</td>\n",
       "      <td>0.073215</td>\n",
       "      <td>0.000764</td>\n",
       "      <td>0.000061</td>\n",
       "    </tr>\n",
       "    <tr>\n",
       "      <th>94947</th>\n",
       "      <td>0.831758</td>\n",
       "      <td>0.841117</td>\n",
       "      <td>0.701617</td>\n",
       "      <td>0.804368</td>\n",
       "      <td>0.166722</td>\n",
       "      <td>0.164604</td>\n",
       "      <td>0.959597</td>\n",
       "      <td>0.962924</td>\n",
       "      <td>0.057133</td>\n",
       "      <td>0.006754</td>\n",
       "      <td>0.000522</td>\n",
       "    </tr>\n",
       "    <tr>\n",
       "      <th>590882</th>\n",
       "      <td>0.831758</td>\n",
       "      <td>0.841117</td>\n",
       "      <td>0.701617</td>\n",
       "      <td>0.804368</td>\n",
       "      <td>0.166722</td>\n",
       "      <td>0.775477</td>\n",
       "      <td>0.959597</td>\n",
       "      <td>0.962924</td>\n",
       "      <td>0.023991</td>\n",
       "      <td>0.000787</td>\n",
       "      <td>0.000119</td>\n",
       "    </tr>\n",
       "    <tr>\n",
       "      <th>201944</th>\n",
       "      <td>0.831758</td>\n",
       "      <td>0.841117</td>\n",
       "      <td>0.701617</td>\n",
       "      <td>0.804368</td>\n",
       "      <td>0.166722</td>\n",
       "      <td>0.775477</td>\n",
       "      <td>0.959597</td>\n",
       "      <td>0.962924</td>\n",
       "      <td>0.031542</td>\n",
       "      <td>0.003983</td>\n",
       "      <td>0.000468</td>\n",
       "    </tr>\n",
       "    <tr>\n",
       "      <th>...</th>\n",
       "      <td>...</td>\n",
       "      <td>...</td>\n",
       "      <td>...</td>\n",
       "      <td>...</td>\n",
       "      <td>...</td>\n",
       "      <td>...</td>\n",
       "      <td>...</td>\n",
       "      <td>...</td>\n",
       "      <td>...</td>\n",
       "      <td>...</td>\n",
       "      <td>...</td>\n",
       "    </tr>\n",
       "    <tr>\n",
       "      <th>688636</th>\n",
       "      <td>0.136331</td>\n",
       "      <td>0.841117</td>\n",
       "      <td>0.701617</td>\n",
       "      <td>0.804368</td>\n",
       "      <td>0.152889</td>\n",
       "      <td>0.775477</td>\n",
       "      <td>0.021842</td>\n",
       "      <td>0.962924</td>\n",
       "      <td>0.021581</td>\n",
       "      <td>0.000445</td>\n",
       "      <td>0.000054</td>\n",
       "    </tr>\n",
       "    <tr>\n",
       "      <th>669485</th>\n",
       "      <td>0.831758</td>\n",
       "      <td>0.841117</td>\n",
       "      <td>0.701617</td>\n",
       "      <td>0.804368</td>\n",
       "      <td>0.634234</td>\n",
       "      <td>0.775477</td>\n",
       "      <td>0.959597</td>\n",
       "      <td>0.962924</td>\n",
       "      <td>0.083703</td>\n",
       "      <td>0.001002</td>\n",
       "      <td>0.000188</td>\n",
       "    </tr>\n",
       "    <tr>\n",
       "      <th>602512</th>\n",
       "      <td>0.831758</td>\n",
       "      <td>0.841117</td>\n",
       "      <td>0.236285</td>\n",
       "      <td>0.804368</td>\n",
       "      <td>0.634234</td>\n",
       "      <td>0.775477</td>\n",
       "      <td>0.959597</td>\n",
       "      <td>0.962924</td>\n",
       "      <td>0.083703</td>\n",
       "      <td>0.001278</td>\n",
       "      <td>0.000084</td>\n",
       "    </tr>\n",
       "    <tr>\n",
       "      <th>151409</th>\n",
       "      <td>0.831758</td>\n",
       "      <td>0.841117</td>\n",
       "      <td>0.062099</td>\n",
       "      <td>0.094370</td>\n",
       "      <td>0.046155</td>\n",
       "      <td>0.050967</td>\n",
       "      <td>0.959597</td>\n",
       "      <td>0.962924</td>\n",
       "      <td>0.086780</td>\n",
       "      <td>0.015495</td>\n",
       "      <td>0.000906</td>\n",
       "    </tr>\n",
       "    <tr>\n",
       "      <th>747594</th>\n",
       "      <td>0.136331</td>\n",
       "      <td>0.841117</td>\n",
       "      <td>0.701617</td>\n",
       "      <td>0.804368</td>\n",
       "      <td>0.634234</td>\n",
       "      <td>0.050967</td>\n",
       "      <td>0.959597</td>\n",
       "      <td>0.962924</td>\n",
       "      <td>0.057133</td>\n",
       "      <td>0.001278</td>\n",
       "      <td>0.000157</td>\n",
       "    </tr>\n",
       "  </tbody>\n",
       "</table>\n",
       "<p>260601 rows × 11 columns</p>\n",
       "</div>"
      ],
      "text/plain": [
       "             land_surface_condition  foundation_type  roof_type  \\\n",
       "building_id                                                       \n",
       "802906                     0.831758         0.841117   0.701617   \n",
       "28830                      0.031911         0.841117   0.701617   \n",
       "94947                      0.831758         0.841117   0.701617   \n",
       "590882                     0.831758         0.841117   0.701617   \n",
       "201944                     0.831758         0.841117   0.701617   \n",
       "...                             ...              ...        ...   \n",
       "688636                     0.136331         0.841117   0.701617   \n",
       "669485                     0.831758         0.841117   0.701617   \n",
       "602512                     0.831758         0.841117   0.236285   \n",
       "151409                     0.831758         0.841117   0.062099   \n",
       "747594                     0.136331         0.841117   0.701617   \n",
       "\n",
       "             ground_floor_type  other_floor_type  position  \\\n",
       "building_id                                                  \n",
       "802906                0.804368          0.634234  0.164604   \n",
       "28830                 0.095460          0.634234  0.775477   \n",
       "94947                 0.804368          0.166722  0.164604   \n",
       "590882                0.804368          0.166722  0.775477   \n",
       "201944                0.804368          0.166722  0.775477   \n",
       "...                        ...               ...       ...   \n",
       "688636                0.804368          0.152889  0.775477   \n",
       "669485                0.804368          0.634234  0.775477   \n",
       "602512                0.804368          0.634234  0.775477   \n",
       "151409                0.094370          0.046155  0.050967   \n",
       "747594                0.804368          0.634234  0.050967   \n",
       "\n",
       "             plan_configuration  legal_ownership_status  geo_level_1_id  \\\n",
       "building_id                                                               \n",
       "802906                 0.959597                0.962924        0.093557   \n",
       "28830                  0.959597                0.962924        0.073215   \n",
       "94947                  0.959597                0.962924        0.057133   \n",
       "590882                 0.959597                0.962924        0.023991   \n",
       "201944                 0.959597                0.962924        0.031542   \n",
       "...                         ...                     ...             ...   \n",
       "688636                 0.021842                0.962924        0.021581   \n",
       "669485                 0.959597                0.962924        0.083703   \n",
       "602512                 0.959597                0.962924        0.083703   \n",
       "151409                 0.959597                0.962924        0.086780   \n",
       "747594                 0.959597                0.962924        0.057133   \n",
       "\n",
       "             geo_level_2_id  geo_level_3_id  \n",
       "building_id                                  \n",
       "802906             0.001036        0.000142  \n",
       "28830              0.000764        0.000061  \n",
       "94947              0.006754        0.000522  \n",
       "590882             0.000787        0.000119  \n",
       "201944             0.003983        0.000468  \n",
       "...                     ...             ...  \n",
       "688636             0.000445        0.000054  \n",
       "669485             0.001002        0.000188  \n",
       "602512             0.001278        0.000084  \n",
       "151409             0.015495        0.000906  \n",
       "747594             0.001278        0.000157  \n",
       "\n",
       "[260601 rows x 11 columns]"
      ]
     },
     "execution_count": 12,
     "metadata": {},
     "output_type": "execute_result"
    }
   ],
   "source": [
    "train_values_subset"
   ]
  },
  {
   "cell_type": "code",
   "execution_count": 13,
   "metadata": {},
   "outputs": [],
   "source": [
    "X_train, X_test, y_train, y_test = train_test_split(train_values_subset,train_labels,test_size = 0.2);"
   ]
  },
  {
   "cell_type": "code",
   "execution_count": 14,
   "metadata": {},
   "outputs": [],
   "source": [
    "# for preprocessing the data\n",
    "from sklearn.preprocessing import StandardScaler\n",
    "\n",
    "# the model\n",
    "from sklearn.ensemble import RandomForestClassifier\n",
    "\n",
    "# for combining the preprocess with model training\n",
    "from sklearn.pipeline import make_pipeline\n",
    "\n",
    "# for optimizing the hyperparameters of the pipeline\n",
    "from sklearn.model_selection import GridSearchCV"
   ]
  },
  {
   "cell_type": "code",
   "execution_count": 15,
   "metadata": {},
   "outputs": [
    {
     "data": {
      "text/plain": [
       "Pipeline(steps=[('standardscaler', StandardScaler()),\n",
       "                ('randomforestclassifier',\n",
       "                 RandomForestClassifier(random_state=2018))])"
      ]
     },
     "execution_count": 15,
     "metadata": {},
     "output_type": "execute_result"
    }
   ],
   "source": [
    "pipe = make_pipeline(StandardScaler(), \n",
    "                     RandomForestClassifier(random_state=2018))\n",
    "pipe"
   ]
  },
  {
   "cell_type": "code",
   "execution_count": 16,
   "metadata": {},
   "outputs": [],
   "source": [
    "param_grid = {'randomforestclassifier__n_estimators': [50, 100],\n",
    "              'randomforestclassifier__min_samples_leaf': [1, 5]}\n",
    "gs = GridSearchCV(pipe, param_grid, cv=5)"
   ]
  },
  {
   "cell_type": "code",
   "execution_count": null,
   "metadata": {},
   "outputs": [
    {
     "data": {
      "text/plain": [
       "GridSearchCV(cv=5,\n",
       "             estimator=Pipeline(steps=[('standardscaler', StandardScaler()),\n",
       "                                       ('randomforestclassifier',\n",
       "                                        RandomForestClassifier(random_state=2018))]),\n",
       "             param_grid={'randomforestclassifier__min_samples_leaf': [1, 5],\n",
       "                         'randomforestclassifier__n_estimators': [50, 100]})"
      ]
     },
     "execution_count": 17,
     "metadata": {},
     "output_type": "execute_result"
    }
   ],
   "source": [
    "gs.fit(X_train, y_train.values.ravel())"
   ]
  },
  {
   "cell_type": "code",
   "execution_count": 24,
   "metadata": {},
   "outputs": [],
   "source": [
    "from sklearn.metrics import f1_score"
   ]
  },
  {
   "cell_type": "code",
   "execution_count": 25,
   "metadata": {},
   "outputs": [
    {
     "data": {
      "text/plain": [
       "0.7617709132770529"
      ]
     },
     "execution_count": 25,
     "metadata": {},
     "output_type": "execute_result"
    }
   ],
   "source": [
    "in_sample_preds = gs.predict(X_train)\n",
    "f1_score(y_train, in_sample_preds, average='micro')"
   ]
  },
  {
   "cell_type": "code",
   "execution_count": 26,
   "metadata": {},
   "outputs": [
    {
     "data": {
      "text/plain": [
       "0.7279407532472516"
      ]
     },
     "execution_count": 26,
     "metadata": {},
     "output_type": "execute_result"
    }
   ],
   "source": [
    "in_sample_preds = gs.predict(X_test)\n",
    "f1_score(y_test, in_sample_preds, average='micro')"
   ]
  },
  {
   "cell_type": "code",
   "execution_count": 27,
   "metadata": {},
   "outputs": [],
   "source": [
    "#test_values = pd.read_csv('test_values.csv', index_col='building_id')"
   ]
  },
  {
   "cell_type": "code",
   "execution_count": 28,
   "metadata": {},
   "outputs": [],
   "source": [
    "test_values_subset = test_values[selected_features]\n",
    "#test_values_subset = pd.get_dummies(test_values_subset)"
   ]
  },
  {
   "cell_type": "code",
   "execution_count": 29,
   "metadata": {},
   "outputs": [],
   "source": [
    "predictions = gs.predict(test_values_subset)"
   ]
  },
  {
   "cell_type": "code",
   "execution_count": 30,
   "metadata": {},
   "outputs": [],
   "source": [
    "submission_format = pd.read_csv('submission_format.csv', index_col='building_id')"
   ]
  },
  {
   "cell_type": "code",
   "execution_count": 31,
   "metadata": {},
   "outputs": [],
   "source": [
    "my_submission = pd.DataFrame(data=predictions,\n",
    "                             columns=submission_format.columns,\n",
    "                             index=submission_format.index)"
   ]
  },
  {
   "cell_type": "code",
   "execution_count": 32,
   "metadata": {},
   "outputs": [
    {
     "data": {
      "text/html": [
       "<div>\n",
       "<style scoped>\n",
       "    .dataframe tbody tr th:only-of-type {\n",
       "        vertical-align: middle;\n",
       "    }\n",
       "\n",
       "    .dataframe tbody tr th {\n",
       "        vertical-align: top;\n",
       "    }\n",
       "\n",
       "    .dataframe thead th {\n",
       "        text-align: right;\n",
       "    }\n",
       "</style>\n",
       "<table border=\"1\" class=\"dataframe\">\n",
       "  <thead>\n",
       "    <tr style=\"text-align: right;\">\n",
       "      <th></th>\n",
       "      <th>damage_grade</th>\n",
       "    </tr>\n",
       "    <tr>\n",
       "      <th>building_id</th>\n",
       "      <th></th>\n",
       "    </tr>\n",
       "  </thead>\n",
       "  <tbody>\n",
       "    <tr>\n",
       "      <th>300051</th>\n",
       "      <td>2</td>\n",
       "    </tr>\n",
       "    <tr>\n",
       "      <th>99355</th>\n",
       "      <td>2</td>\n",
       "    </tr>\n",
       "    <tr>\n",
       "      <th>890251</th>\n",
       "      <td>2</td>\n",
       "    </tr>\n",
       "    <tr>\n",
       "      <th>745817</th>\n",
       "      <td>2</td>\n",
       "    </tr>\n",
       "    <tr>\n",
       "      <th>421793</th>\n",
       "      <td>2</td>\n",
       "    </tr>\n",
       "  </tbody>\n",
       "</table>\n",
       "</div>"
      ],
      "text/plain": [
       "             damage_grade\n",
       "building_id              \n",
       "300051                  2\n",
       "99355                   2\n",
       "890251                  2\n",
       "745817                  2\n",
       "421793                  2"
      ]
     },
     "execution_count": 32,
     "metadata": {},
     "output_type": "execute_result"
    }
   ],
   "source": [
    "my_submission.head()"
   ]
  },
  {
   "cell_type": "code",
   "execution_count": 33,
   "metadata": {},
   "outputs": [],
   "source": [
    "my_submission.to_csv('submission.csv')"
   ]
  },
  {
   "cell_type": "code",
   "execution_count": 34,
   "metadata": {},
   "outputs": [
    {
     "name": "stderr",
     "output_type": "stream",
     "text": [
      "'head' is not recognized as an internal or external command,\n",
      "operable program or batch file.\n"
     ]
    }
   ],
   "source": [
    "!head submission.csv"
   ]
  },
  {
   "cell_type": "code",
   "execution_count": 35,
   "metadata": {},
   "outputs": [
    {
     "data": {
      "text/plain": [
       "2    66861\n",
       "3    16363\n",
       "1     3644\n",
       "Name: damage_grade, dtype: int64"
      ]
     },
     "execution_count": 35,
     "metadata": {},
     "output_type": "execute_result"
    }
   ],
   "source": [
    "my_submission.damage_grade.value_counts()"
   ]
  }
 ],
 "metadata": {
  "kernelspec": {
   "display_name": "Python 3",
   "language": "python",
   "name": "python3"
  },
  "language_info": {
   "codemirror_mode": {
    "name": "ipython",
    "version": 3
   },
   "file_extension": ".py",
   "mimetype": "text/x-python",
   "name": "python",
   "nbconvert_exporter": "python",
   "pygments_lexer": "ipython3",
   "version": "3.8.5"
  }
 },
 "nbformat": 4,
 "nbformat_minor": 5
}
