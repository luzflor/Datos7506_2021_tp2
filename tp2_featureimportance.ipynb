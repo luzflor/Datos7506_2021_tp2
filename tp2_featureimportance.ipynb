{
 "cells": [
  {
   "cell_type": "code",
   "execution_count": 38,
   "metadata": {},
   "outputs": [],
   "source": [
    "%matplotlib inline\n",
    "\n",
    "from pathlib import Path\n",
    "\n",
    "import numpy as np\n",
    "import pandas as pd\n",
    "\n",
    "import matplotlib.pyplot as plt\n",
    "import seaborn as sns\n",
    "from sklearn.model_selection import train_test_split"
   ]
  },
  {
   "cell_type": "code",
   "execution_count": 39,
   "metadata": {},
   "outputs": [],
   "source": [
    "train_values = pd.read_csv('train_values.csv', index_col='building_id')\n",
    "train_labels = pd.read_csv('train_labels.csv', index_col='building_id')"
   ]
  },
  {
   "cell_type": "code",
   "execution_count": 40,
   "metadata": {},
   "outputs": [],
   "source": [
    "test_values = pd.read_csv('test_values.csv', index_col='building_id')"
   ]
  },
  {
   "cell_type": "code",
   "execution_count": 41,
   "metadata": {},
   "outputs": [
    {
     "data": {
      "text/plain": [
       "geo_level_1_id                             int64\n",
       "geo_level_2_id                             int64\n",
       "geo_level_3_id                             int64\n",
       "count_floors_pre_eq                        int64\n",
       "age                                        int64\n",
       "area_percentage                            int64\n",
       "height_percentage                          int64\n",
       "land_surface_condition                    object\n",
       "foundation_type                           object\n",
       "roof_type                                 object\n",
       "ground_floor_type                         object\n",
       "other_floor_type                          object\n",
       "position                                  object\n",
       "plan_configuration                        object\n",
       "has_superstructure_adobe_mud               int64\n",
       "has_superstructure_mud_mortar_stone        int64\n",
       "has_superstructure_stone_flag              int64\n",
       "has_superstructure_cement_mortar_stone     int64\n",
       "has_superstructure_mud_mortar_brick        int64\n",
       "has_superstructure_cement_mortar_brick     int64\n",
       "has_superstructure_timber                  int64\n",
       "has_superstructure_bamboo                  int64\n",
       "has_superstructure_rc_non_engineered       int64\n",
       "has_superstructure_rc_engineered           int64\n",
       "has_superstructure_other                   int64\n",
       "legal_ownership_status                    object\n",
       "count_families                             int64\n",
       "has_secondary_use                          int64\n",
       "has_secondary_use_agriculture              int64\n",
       "has_secondary_use_hotel                    int64\n",
       "has_secondary_use_rental                   int64\n",
       "has_secondary_use_institution              int64\n",
       "has_secondary_use_school                   int64\n",
       "has_secondary_use_industry                 int64\n",
       "has_secondary_use_health_post              int64\n",
       "has_secondary_use_gov_office               int64\n",
       "has_secondary_use_use_police               int64\n",
       "has_secondary_use_other                    int64\n",
       "dtype: object"
      ]
     },
     "execution_count": 41,
     "metadata": {},
     "output_type": "execute_result"
    }
   ],
   "source": [
    "train_values.dtypes"
   ]
  },
  {
   "cell_type": "code",
   "execution_count": 42,
   "metadata": {},
   "outputs": [],
   "source": [
    "columnas = ['land_surface_condition',\n",
    "            'foundation_type',\n",
    "            'roof_type',\n",
    "            'ground_floor_type',\n",
    "            'other_floor_type',\n",
    "            'position',\n",
    "            'plan_configuration',\n",
    "            'legal_ownership_status',\n",
    "            'geo_level_1_id',\n",
    "            'geo_level_2_id',\n",
    "            'geo_level_3_id'];"
   ]
  },
  {
   "cell_type": "code",
   "execution_count": 43,
   "metadata": {},
   "outputs": [],
   "source": [
    "for row in columnas:\n",
    "  # Calculamos la frecuencia por cada grado de cada valor de la variable\n",
    "  Auxiliar = test_values.groupby([row]).size()/len(test_values);\n",
    "\n",
    "  # Reemplazamos la columna por la columna de frecuencias\n",
    "  test_values.loc[:,row] = test_values[row].map(Auxiliar);"
   ]
  },
  {
   "cell_type": "code",
   "execution_count": 44,
   "metadata": {},
   "outputs": [],
   "source": [
    "for row in columnas:\n",
    "  # Calculamos la frecuencia por cada grado de cada valor de la variable\n",
    "  Auxiliar = train_values.groupby([row]).size()/len(train_values);\n",
    "\n",
    "  # Reemplazamos la columna por la columna de frecuencias\n",
    "  train_values.loc[:,row] = train_values[row].map(Auxiliar);"
   ]
  },
  {
   "cell_type": "code",
   "execution_count": 45,
   "metadata": {},
   "outputs": [
    {
     "name": "stdout",
     "output_type": "stream",
     "text": [
      "<class 'pandas.core.frame.DataFrame'>\n",
      "Int64Index: 260601 entries, 802906 to 747594\n",
      "Data columns (total 38 columns):\n",
      " #   Column                                  Non-Null Count   Dtype  \n",
      "---  ------                                  --------------   -----  \n",
      " 0   geo_level_1_id                          260601 non-null  float64\n",
      " 1   geo_level_2_id                          260601 non-null  float64\n",
      " 2   geo_level_3_id                          260601 non-null  float64\n",
      " 3   count_floors_pre_eq                     260601 non-null  int64  \n",
      " 4   age                                     260601 non-null  int64  \n",
      " 5   area_percentage                         260601 non-null  int64  \n",
      " 6   height_percentage                       260601 non-null  int64  \n",
      " 7   land_surface_condition                  260601 non-null  float64\n",
      " 8   foundation_type                         260601 non-null  float64\n",
      " 9   roof_type                               260601 non-null  float64\n",
      " 10  ground_floor_type                       260601 non-null  float64\n",
      " 11  other_floor_type                        260601 non-null  float64\n",
      " 12  position                                260601 non-null  float64\n",
      " 13  plan_configuration                      260601 non-null  float64\n",
      " 14  has_superstructure_adobe_mud            260601 non-null  int64  \n",
      " 15  has_superstructure_mud_mortar_stone     260601 non-null  int64  \n",
      " 16  has_superstructure_stone_flag           260601 non-null  int64  \n",
      " 17  has_superstructure_cement_mortar_stone  260601 non-null  int64  \n",
      " 18  has_superstructure_mud_mortar_brick     260601 non-null  int64  \n",
      " 19  has_superstructure_cement_mortar_brick  260601 non-null  int64  \n",
      " 20  has_superstructure_timber               260601 non-null  int64  \n",
      " 21  has_superstructure_bamboo               260601 non-null  int64  \n",
      " 22  has_superstructure_rc_non_engineered    260601 non-null  int64  \n",
      " 23  has_superstructure_rc_engineered        260601 non-null  int64  \n",
      " 24  has_superstructure_other                260601 non-null  int64  \n",
      " 25  legal_ownership_status                  260601 non-null  float64\n",
      " 26  count_families                          260601 non-null  int64  \n",
      " 27  has_secondary_use                       260601 non-null  int64  \n",
      " 28  has_secondary_use_agriculture           260601 non-null  int64  \n",
      " 29  has_secondary_use_hotel                 260601 non-null  int64  \n",
      " 30  has_secondary_use_rental                260601 non-null  int64  \n",
      " 31  has_secondary_use_institution           260601 non-null  int64  \n",
      " 32  has_secondary_use_school                260601 non-null  int64  \n",
      " 33  has_secondary_use_industry              260601 non-null  int64  \n",
      " 34  has_secondary_use_health_post           260601 non-null  int64  \n",
      " 35  has_secondary_use_gov_office            260601 non-null  int64  \n",
      " 36  has_secondary_use_use_police            260601 non-null  int64  \n",
      " 37  has_secondary_use_other                 260601 non-null  int64  \n",
      "dtypes: float64(11), int64(27)\n",
      "memory usage: 77.5 MB\n"
     ]
    }
   ],
   "source": [
    "train_values.info()"
   ]
  },
  {
   "cell_type": "code",
   "execution_count": 48,
   "metadata": {},
   "outputs": [
    {
     "data": {
      "text/plain": [
       "['geo_level_1_id',\n",
       " 'geo_level_2_id',\n",
       " 'geo_level_3_id',\n",
       " 'count_floors_pre_eq',\n",
       " 'age',\n",
       " 'area_percentage',\n",
       " 'height_percentage',\n",
       " 'land_surface_condition',\n",
       " 'foundation_type',\n",
       " 'roof_type',\n",
       " 'ground_floor_type',\n",
       " 'other_floor_type',\n",
       " 'position',\n",
       " 'plan_configuration',\n",
       " 'has_superstructure_adobe_mud',\n",
       " 'has_superstructure_mud_mortar_stone',\n",
       " 'has_superstructure_stone_flag',\n",
       " 'has_superstructure_cement_mortar_stone',\n",
       " 'has_superstructure_mud_mortar_brick',\n",
       " 'has_superstructure_cement_mortar_brick',\n",
       " 'has_superstructure_timber',\n",
       " 'has_superstructure_bamboo',\n",
       " 'has_superstructure_rc_non_engineered',\n",
       " 'has_superstructure_rc_engineered',\n",
       " 'has_superstructure_other',\n",
       " 'legal_ownership_status',\n",
       " 'count_families',\n",
       " 'has_secondary_use',\n",
       " 'has_secondary_use_agriculture',\n",
       " 'has_secondary_use_hotel',\n",
       " 'has_secondary_use_rental',\n",
       " 'has_secondary_use_institution',\n",
       " 'has_secondary_use_school',\n",
       " 'has_secondary_use_industry',\n",
       " 'has_secondary_use_health_post',\n",
       " 'has_secondary_use_gov_office',\n",
       " 'has_secondary_use_use_police',\n",
       " 'has_secondary_use_other']"
      ]
     },
     "execution_count": 48,
     "metadata": {},
     "output_type": "execute_result"
    }
   ],
   "source": [
    "train_values.columns.to_list()"
   ]
  },
  {
   "cell_type": "code",
   "execution_count": 49,
   "metadata": {},
   "outputs": [],
   "source": [
    "selected_features = ['geo_level_1_id',\n",
    " 'geo_level_2_id',\n",
    " 'geo_level_3_id',\n",
    " 'count_floors_pre_eq',\n",
    " 'age',\n",
    " 'area_percentage',\n",
    " 'height_percentage',\n",
    " 'land_surface_condition',\n",
    " 'foundation_type',\n",
    " 'roof_type',\n",
    " 'ground_floor_type',\n",
    " 'other_floor_type',\n",
    " 'position',\n",
    " 'plan_configuration',\n",
    " 'has_superstructure_adobe_mud',\n",
    " 'has_superstructure_mud_mortar_stone',\n",
    " 'has_superstructure_stone_flag',\n",
    " 'has_superstructure_cement_mortar_stone',\n",
    " 'has_superstructure_mud_mortar_brick',\n",
    " 'has_superstructure_cement_mortar_brick',\n",
    " 'has_superstructure_timber',\n",
    " 'has_superstructure_bamboo',\n",
    " 'has_superstructure_rc_non_engineered',\n",
    " 'has_superstructure_rc_engineered',\n",
    " 'has_superstructure_other',\n",
    " 'legal_ownership_status',\n",
    " 'count_families',\n",
    " 'has_secondary_use',\n",
    " 'has_secondary_use_agriculture',\n",
    " 'has_secondary_use_hotel',\n",
    " 'has_secondary_use_rental',\n",
    " 'has_secondary_use_institution',\n",
    " 'has_secondary_use_school',\n",
    " 'has_secondary_use_industry',\n",
    " 'has_secondary_use_health_post',\n",
    " 'has_secondary_use_gov_office',\n",
    " 'has_secondary_use_use_police',\n",
    " 'has_secondary_use_other'];\n",
    "train_values_subset = train_values[selected_features]"
   ]
  },
  {
   "cell_type": "code",
   "execution_count": 50,
   "metadata": {},
   "outputs": [
    {
     "data": {
      "text/html": [
       "<div>\n",
       "<style scoped>\n",
       "    .dataframe tbody tr th:only-of-type {\n",
       "        vertical-align: middle;\n",
       "    }\n",
       "\n",
       "    .dataframe tbody tr th {\n",
       "        vertical-align: top;\n",
       "    }\n",
       "\n",
       "    .dataframe thead th {\n",
       "        text-align: right;\n",
       "    }\n",
       "</style>\n",
       "<table border=\"1\" class=\"dataframe\">\n",
       "  <thead>\n",
       "    <tr style=\"text-align: right;\">\n",
       "      <th></th>\n",
       "      <th>geo_level_1_id</th>\n",
       "      <th>geo_level_2_id</th>\n",
       "      <th>geo_level_3_id</th>\n",
       "      <th>count_floors_pre_eq</th>\n",
       "      <th>age</th>\n",
       "      <th>area_percentage</th>\n",
       "      <th>height_percentage</th>\n",
       "      <th>land_surface_condition</th>\n",
       "      <th>foundation_type</th>\n",
       "      <th>roof_type</th>\n",
       "      <th>...</th>\n",
       "      <th>has_secondary_use_agriculture</th>\n",
       "      <th>has_secondary_use_hotel</th>\n",
       "      <th>has_secondary_use_rental</th>\n",
       "      <th>has_secondary_use_institution</th>\n",
       "      <th>has_secondary_use_school</th>\n",
       "      <th>has_secondary_use_industry</th>\n",
       "      <th>has_secondary_use_health_post</th>\n",
       "      <th>has_secondary_use_gov_office</th>\n",
       "      <th>has_secondary_use_use_police</th>\n",
       "      <th>has_secondary_use_other</th>\n",
       "    </tr>\n",
       "    <tr>\n",
       "      <th>building_id</th>\n",
       "      <th></th>\n",
       "      <th></th>\n",
       "      <th></th>\n",
       "      <th></th>\n",
       "      <th></th>\n",
       "      <th></th>\n",
       "      <th></th>\n",
       "      <th></th>\n",
       "      <th></th>\n",
       "      <th></th>\n",
       "      <th></th>\n",
       "      <th></th>\n",
       "      <th></th>\n",
       "      <th></th>\n",
       "      <th></th>\n",
       "      <th></th>\n",
       "      <th></th>\n",
       "      <th></th>\n",
       "      <th></th>\n",
       "      <th></th>\n",
       "      <th></th>\n",
       "    </tr>\n",
       "  </thead>\n",
       "  <tbody>\n",
       "    <tr>\n",
       "      <th>802906</th>\n",
       "      <td>0.093557</td>\n",
       "      <td>0.001036</td>\n",
       "      <td>0.000142</td>\n",
       "      <td>2</td>\n",
       "      <td>30</td>\n",
       "      <td>6</td>\n",
       "      <td>5</td>\n",
       "      <td>0.831758</td>\n",
       "      <td>0.841117</td>\n",
       "      <td>0.701617</td>\n",
       "      <td>...</td>\n",
       "      <td>0</td>\n",
       "      <td>0</td>\n",
       "      <td>0</td>\n",
       "      <td>0</td>\n",
       "      <td>0</td>\n",
       "      <td>0</td>\n",
       "      <td>0</td>\n",
       "      <td>0</td>\n",
       "      <td>0</td>\n",
       "      <td>0</td>\n",
       "    </tr>\n",
       "    <tr>\n",
       "      <th>28830</th>\n",
       "      <td>0.073215</td>\n",
       "      <td>0.000764</td>\n",
       "      <td>0.000061</td>\n",
       "      <td>2</td>\n",
       "      <td>10</td>\n",
       "      <td>8</td>\n",
       "      <td>7</td>\n",
       "      <td>0.031911</td>\n",
       "      <td>0.841117</td>\n",
       "      <td>0.701617</td>\n",
       "      <td>...</td>\n",
       "      <td>0</td>\n",
       "      <td>0</td>\n",
       "      <td>0</td>\n",
       "      <td>0</td>\n",
       "      <td>0</td>\n",
       "      <td>0</td>\n",
       "      <td>0</td>\n",
       "      <td>0</td>\n",
       "      <td>0</td>\n",
       "      <td>0</td>\n",
       "    </tr>\n",
       "    <tr>\n",
       "      <th>94947</th>\n",
       "      <td>0.057133</td>\n",
       "      <td>0.006754</td>\n",
       "      <td>0.000522</td>\n",
       "      <td>2</td>\n",
       "      <td>10</td>\n",
       "      <td>5</td>\n",
       "      <td>5</td>\n",
       "      <td>0.831758</td>\n",
       "      <td>0.841117</td>\n",
       "      <td>0.701617</td>\n",
       "      <td>...</td>\n",
       "      <td>0</td>\n",
       "      <td>0</td>\n",
       "      <td>0</td>\n",
       "      <td>0</td>\n",
       "      <td>0</td>\n",
       "      <td>0</td>\n",
       "      <td>0</td>\n",
       "      <td>0</td>\n",
       "      <td>0</td>\n",
       "      <td>0</td>\n",
       "    </tr>\n",
       "    <tr>\n",
       "      <th>590882</th>\n",
       "      <td>0.023991</td>\n",
       "      <td>0.000787</td>\n",
       "      <td>0.000119</td>\n",
       "      <td>2</td>\n",
       "      <td>10</td>\n",
       "      <td>6</td>\n",
       "      <td>5</td>\n",
       "      <td>0.831758</td>\n",
       "      <td>0.841117</td>\n",
       "      <td>0.701617</td>\n",
       "      <td>...</td>\n",
       "      <td>0</td>\n",
       "      <td>0</td>\n",
       "      <td>0</td>\n",
       "      <td>0</td>\n",
       "      <td>0</td>\n",
       "      <td>0</td>\n",
       "      <td>0</td>\n",
       "      <td>0</td>\n",
       "      <td>0</td>\n",
       "      <td>0</td>\n",
       "    </tr>\n",
       "    <tr>\n",
       "      <th>201944</th>\n",
       "      <td>0.031542</td>\n",
       "      <td>0.003983</td>\n",
       "      <td>0.000468</td>\n",
       "      <td>3</td>\n",
       "      <td>30</td>\n",
       "      <td>8</td>\n",
       "      <td>9</td>\n",
       "      <td>0.831758</td>\n",
       "      <td>0.841117</td>\n",
       "      <td>0.701617</td>\n",
       "      <td>...</td>\n",
       "      <td>0</td>\n",
       "      <td>0</td>\n",
       "      <td>0</td>\n",
       "      <td>0</td>\n",
       "      <td>0</td>\n",
       "      <td>0</td>\n",
       "      <td>0</td>\n",
       "      <td>0</td>\n",
       "      <td>0</td>\n",
       "      <td>0</td>\n",
       "    </tr>\n",
       "    <tr>\n",
       "      <th>...</th>\n",
       "      <td>...</td>\n",
       "      <td>...</td>\n",
       "      <td>...</td>\n",
       "      <td>...</td>\n",
       "      <td>...</td>\n",
       "      <td>...</td>\n",
       "      <td>...</td>\n",
       "      <td>...</td>\n",
       "      <td>...</td>\n",
       "      <td>...</td>\n",
       "      <td>...</td>\n",
       "      <td>...</td>\n",
       "      <td>...</td>\n",
       "      <td>...</td>\n",
       "      <td>...</td>\n",
       "      <td>...</td>\n",
       "      <td>...</td>\n",
       "      <td>...</td>\n",
       "      <td>...</td>\n",
       "      <td>...</td>\n",
       "      <td>...</td>\n",
       "    </tr>\n",
       "    <tr>\n",
       "      <th>688636</th>\n",
       "      <td>0.021581</td>\n",
       "      <td>0.000445</td>\n",
       "      <td>0.000054</td>\n",
       "      <td>1</td>\n",
       "      <td>55</td>\n",
       "      <td>6</td>\n",
       "      <td>3</td>\n",
       "      <td>0.136331</td>\n",
       "      <td>0.841117</td>\n",
       "      <td>0.701617</td>\n",
       "      <td>...</td>\n",
       "      <td>0</td>\n",
       "      <td>0</td>\n",
       "      <td>0</td>\n",
       "      <td>0</td>\n",
       "      <td>0</td>\n",
       "      <td>0</td>\n",
       "      <td>0</td>\n",
       "      <td>0</td>\n",
       "      <td>0</td>\n",
       "      <td>0</td>\n",
       "    </tr>\n",
       "    <tr>\n",
       "      <th>669485</th>\n",
       "      <td>0.083703</td>\n",
       "      <td>0.001002</td>\n",
       "      <td>0.000188</td>\n",
       "      <td>2</td>\n",
       "      <td>0</td>\n",
       "      <td>6</td>\n",
       "      <td>5</td>\n",
       "      <td>0.831758</td>\n",
       "      <td>0.841117</td>\n",
       "      <td>0.701617</td>\n",
       "      <td>...</td>\n",
       "      <td>0</td>\n",
       "      <td>0</td>\n",
       "      <td>0</td>\n",
       "      <td>0</td>\n",
       "      <td>0</td>\n",
       "      <td>0</td>\n",
       "      <td>0</td>\n",
       "      <td>0</td>\n",
       "      <td>0</td>\n",
       "      <td>0</td>\n",
       "    </tr>\n",
       "    <tr>\n",
       "      <th>602512</th>\n",
       "      <td>0.083703</td>\n",
       "      <td>0.001278</td>\n",
       "      <td>0.000084</td>\n",
       "      <td>3</td>\n",
       "      <td>55</td>\n",
       "      <td>6</td>\n",
       "      <td>7</td>\n",
       "      <td>0.831758</td>\n",
       "      <td>0.841117</td>\n",
       "      <td>0.236285</td>\n",
       "      <td>...</td>\n",
       "      <td>0</td>\n",
       "      <td>0</td>\n",
       "      <td>0</td>\n",
       "      <td>0</td>\n",
       "      <td>0</td>\n",
       "      <td>0</td>\n",
       "      <td>0</td>\n",
       "      <td>0</td>\n",
       "      <td>0</td>\n",
       "      <td>0</td>\n",
       "    </tr>\n",
       "    <tr>\n",
       "      <th>151409</th>\n",
       "      <td>0.086780</td>\n",
       "      <td>0.015495</td>\n",
       "      <td>0.000906</td>\n",
       "      <td>2</td>\n",
       "      <td>10</td>\n",
       "      <td>14</td>\n",
       "      <td>6</td>\n",
       "      <td>0.831758</td>\n",
       "      <td>0.841117</td>\n",
       "      <td>0.062099</td>\n",
       "      <td>...</td>\n",
       "      <td>0</td>\n",
       "      <td>0</td>\n",
       "      <td>0</td>\n",
       "      <td>0</td>\n",
       "      <td>0</td>\n",
       "      <td>0</td>\n",
       "      <td>0</td>\n",
       "      <td>0</td>\n",
       "      <td>0</td>\n",
       "      <td>0</td>\n",
       "    </tr>\n",
       "    <tr>\n",
       "      <th>747594</th>\n",
       "      <td>0.057133</td>\n",
       "      <td>0.001278</td>\n",
       "      <td>0.000157</td>\n",
       "      <td>3</td>\n",
       "      <td>10</td>\n",
       "      <td>7</td>\n",
       "      <td>6</td>\n",
       "      <td>0.136331</td>\n",
       "      <td>0.841117</td>\n",
       "      <td>0.701617</td>\n",
       "      <td>...</td>\n",
       "      <td>0</td>\n",
       "      <td>0</td>\n",
       "      <td>0</td>\n",
       "      <td>0</td>\n",
       "      <td>0</td>\n",
       "      <td>0</td>\n",
       "      <td>0</td>\n",
       "      <td>0</td>\n",
       "      <td>0</td>\n",
       "      <td>0</td>\n",
       "    </tr>\n",
       "  </tbody>\n",
       "</table>\n",
       "<p>260601 rows × 38 columns</p>\n",
       "</div>"
      ],
      "text/plain": [
       "             geo_level_1_id  geo_level_2_id  geo_level_3_id  \\\n",
       "building_id                                                   \n",
       "802906             0.093557        0.001036        0.000142   \n",
       "28830              0.073215        0.000764        0.000061   \n",
       "94947              0.057133        0.006754        0.000522   \n",
       "590882             0.023991        0.000787        0.000119   \n",
       "201944             0.031542        0.003983        0.000468   \n",
       "...                     ...             ...             ...   \n",
       "688636             0.021581        0.000445        0.000054   \n",
       "669485             0.083703        0.001002        0.000188   \n",
       "602512             0.083703        0.001278        0.000084   \n",
       "151409             0.086780        0.015495        0.000906   \n",
       "747594             0.057133        0.001278        0.000157   \n",
       "\n",
       "             count_floors_pre_eq  age  area_percentage  height_percentage  \\\n",
       "building_id                                                                 \n",
       "802906                         2   30                6                  5   \n",
       "28830                          2   10                8                  7   \n",
       "94947                          2   10                5                  5   \n",
       "590882                         2   10                6                  5   \n",
       "201944                         3   30                8                  9   \n",
       "...                          ...  ...              ...                ...   \n",
       "688636                         1   55                6                  3   \n",
       "669485                         2    0                6                  5   \n",
       "602512                         3   55                6                  7   \n",
       "151409                         2   10               14                  6   \n",
       "747594                         3   10                7                  6   \n",
       "\n",
       "             land_surface_condition  foundation_type  roof_type  ...  \\\n",
       "building_id                                                      ...   \n",
       "802906                     0.831758         0.841117   0.701617  ...   \n",
       "28830                      0.031911         0.841117   0.701617  ...   \n",
       "94947                      0.831758         0.841117   0.701617  ...   \n",
       "590882                     0.831758         0.841117   0.701617  ...   \n",
       "201944                     0.831758         0.841117   0.701617  ...   \n",
       "...                             ...              ...        ...  ...   \n",
       "688636                     0.136331         0.841117   0.701617  ...   \n",
       "669485                     0.831758         0.841117   0.701617  ...   \n",
       "602512                     0.831758         0.841117   0.236285  ...   \n",
       "151409                     0.831758         0.841117   0.062099  ...   \n",
       "747594                     0.136331         0.841117   0.701617  ...   \n",
       "\n",
       "             has_secondary_use_agriculture  has_secondary_use_hotel  \\\n",
       "building_id                                                           \n",
       "802906                                   0                        0   \n",
       "28830                                    0                        0   \n",
       "94947                                    0                        0   \n",
       "590882                                   0                        0   \n",
       "201944                                   0                        0   \n",
       "...                                    ...                      ...   \n",
       "688636                                   0                        0   \n",
       "669485                                   0                        0   \n",
       "602512                                   0                        0   \n",
       "151409                                   0                        0   \n",
       "747594                                   0                        0   \n",
       "\n",
       "             has_secondary_use_rental  has_secondary_use_institution  \\\n",
       "building_id                                                            \n",
       "802906                              0                              0   \n",
       "28830                               0                              0   \n",
       "94947                               0                              0   \n",
       "590882                              0                              0   \n",
       "201944                              0                              0   \n",
       "...                               ...                            ...   \n",
       "688636                              0                              0   \n",
       "669485                              0                              0   \n",
       "602512                              0                              0   \n",
       "151409                              0                              0   \n",
       "747594                              0                              0   \n",
       "\n",
       "             has_secondary_use_school  has_secondary_use_industry  \\\n",
       "building_id                                                         \n",
       "802906                              0                           0   \n",
       "28830                               0                           0   \n",
       "94947                               0                           0   \n",
       "590882                              0                           0   \n",
       "201944                              0                           0   \n",
       "...                               ...                         ...   \n",
       "688636                              0                           0   \n",
       "669485                              0                           0   \n",
       "602512                              0                           0   \n",
       "151409                              0                           0   \n",
       "747594                              0                           0   \n",
       "\n",
       "             has_secondary_use_health_post  has_secondary_use_gov_office  \\\n",
       "building_id                                                                \n",
       "802906                                   0                             0   \n",
       "28830                                    0                             0   \n",
       "94947                                    0                             0   \n",
       "590882                                   0                             0   \n",
       "201944                                   0                             0   \n",
       "...                                    ...                           ...   \n",
       "688636                                   0                             0   \n",
       "669485                                   0                             0   \n",
       "602512                                   0                             0   \n",
       "151409                                   0                             0   \n",
       "747594                                   0                             0   \n",
       "\n",
       "             has_secondary_use_use_police  has_secondary_use_other  \n",
       "building_id                                                         \n",
       "802906                                  0                        0  \n",
       "28830                                   0                        0  \n",
       "94947                                   0                        0  \n",
       "590882                                  0                        0  \n",
       "201944                                  0                        0  \n",
       "...                                   ...                      ...  \n",
       "688636                                  0                        0  \n",
       "669485                                  0                        0  \n",
       "602512                                  0                        0  \n",
       "151409                                  0                        0  \n",
       "747594                                  0                        0  \n",
       "\n",
       "[260601 rows x 38 columns]"
      ]
     },
     "execution_count": 50,
     "metadata": {},
     "output_type": "execute_result"
    }
   ],
   "source": [
    "train_values_subset"
   ]
  },
  {
   "cell_type": "code",
   "execution_count": 51,
   "metadata": {},
   "outputs": [],
   "source": [
    "X_train, X_test, y_train, y_test = train_test_split(train_values_subset,train_labels,test_size = 0.2);"
   ]
  },
  {
   "cell_type": "code",
   "execution_count": 52,
   "metadata": {},
   "outputs": [],
   "source": [
    "# for preprocessing the data\n",
    "from sklearn.preprocessing import StandardScaler\n",
    "\n",
    "# the model\n",
    "from sklearn.ensemble import RandomForestClassifier\n",
    "\n",
    "# for combining the preprocess with model training\n",
    "from sklearn.pipeline import make_pipeline\n",
    "\n",
    "# for optimizing the hyperparameters of the pipeline\n",
    "from sklearn.model_selection import GridSearchCV"
   ]
  },
  {
   "cell_type": "code",
   "execution_count": 53,
   "metadata": {},
   "outputs": [
    {
     "data": {
      "text/plain": [
       "Pipeline(steps=[('standardscaler', StandardScaler()),\n",
       "                ('randomforestclassifier',\n",
       "                 RandomForestClassifier(random_state=2018))])"
      ]
     },
     "execution_count": 53,
     "metadata": {},
     "output_type": "execute_result"
    }
   ],
   "source": []
  },
  {
   "cell_type": "code",
   "execution_count": 56,
   "metadata": {},
   "outputs": [],
   "source": [
    "rf_model =  RandomForestClassifier(random_state=2018)"
   ]
  },
  {
   "cell_type": "code",
   "execution_count": 58,
   "metadata": {},
   "outputs": [
    {
     "data": {
      "text/plain": [
       "RandomForestClassifier(random_state=2018)"
      ]
     },
     "execution_count": 58,
     "metadata": {},
     "output_type": "execute_result"
    }
   ],
   "source": [
    "rf_model.fit(X_train, y_train.values.ravel())"
   ]
  },
  {
   "cell_type": "code",
   "execution_count": 68,
   "metadata": {},
   "outputs": [
    {
     "data": {
      "image/png": "[encoded data removed]",
      "text/plain": [
       "<Figure size 432x288 with 1 Axes>"
      ]
     },
     "metadata": {
      "needs_background": "light"
     },
     "output_type": "display_data"
    }
   ],
   "source": [
    "plt.barh(X_train.columns, rf_model.feature_importances_)\n",
    "plt.xlabel('Features')\n",
    "plt.ylabel('Importancia')\n",
    "plt.title('Importancia Features con RF')\n",
    "plt.xticks(rotation=90) \n",
    "plt.show()"
   ]
  },
  {
   "cell_type": "code",
   "execution_count": 69,
   "metadata": {},
   "outputs": [],
   "source": [
    "important_features = list(zip(X_train.columns, rf_model.feature_importances_))\n",
    "sorted_features = sorted(important_features, key=lambda x: x[1])"
   ]
  },
  {
   "cell_type": "code",
   "execution_count": 81,
   "metadata": {},
   "outputs": [
    {
     "data": {
      "text/plain": [
       "list"
      ]
     },
     "execution_count": 81,
     "metadata": {},
     "output_type": "execute_result"
    }
   ],
   "source": [
    "type(sorted_features)"
   ]
  },
  {
   "cell_type": "code",
   "execution_count": 71,
   "metadata": {},
   "outputs": [
    {
     "data": {
      "image/png": "[encoded data removed]",
      "text/plain": [
       "<Figure size 576x1152 with 1 Axes>"
      ]
     },
     "metadata": {
      "needs_background": "light"
     },
     "output_type": "display_data"
    }
   ],
   "source": [
    "importance = []\n",
    "feature_names = []\n",
    "plt.figure(figsize=(8, 16))\n",
    "n_features = X_train.shape[1]\n",
    "for i in sorted_features:\n",
    "    feature_names.append(i[0])\n",
    "    importance.append(i[1])\n",
    "    \n",
    "plt.barh(range(n_features), importance)\n",
    "plt.yticks(np.arange(n_features), feature_names)\n",
    "plt.xlabel('Feature importance')\n",
    "plt.ylabel('Feature')\n",
    "plt.show()"
   ]
  },
  {
   "cell_type": "code",
   "execution_count": null,
   "metadata": {},
   "outputs": [],
   "source": [
    " ('count_floors_pre_eq', 0.017049456486940492),\n",
    " ('other_floor_type', 0.0200991204433194),\n",
    " ('land_surface_condition', 0.02171084925159366),\n",
    " ('roof_type', 0.02213881273487791),\n",
    " ('position', 0.02347080701209878),\n",
    " ('ground_floor_type', 0.024442280919832325),\n",
    " ('count_families', 0.026044620683833692),\n",
    " ('foundation_type', 0.026226822018109615),\n",
    " ('height_percentage', 0.05837223293382823),\n",
    " ('area_percentage', 0.1177515562760127),\n",
    " ('geo_level_1_id', 0.12319226319307224),\n",
    " ('age', 0.12512291181948398),\n",
    " ('geo_level_2_id', 0.14007754525369107),\n",
    " ('geo_level_3_id', 0.14291023965765856)]"
   ]
  },
  {
   "cell_type": "code",
   "execution_count": null,
   "metadata": {},
   "outputs": [],
   "source": [
    "selected_features = selected_features = ['geo_level_1_id',\n",
    " 'geo_level_2_id',\n",
    " 'geo_level_3_id',\n",
    " 'count_floors_pre_eq',\n",
    " 'age',\n",
    " 'area_percentage',\n",
    " 'height_percentage',\n",
    " 'land_surface_condition',\n",
    " 'foundation_type',\n",
    " 'roof_type',\n",
    " 'ground_floor_type',\n",
    " 'other_floor_type',\n",
    " 'position',\n",
    " 'count_families',\n",
    " ];"
   ]
  },
  {
   "cell_type": "code",
   "execution_count": 16,
   "metadata": {},
   "outputs": [],
   "source": [
    "param_grid = {'randomforestclassifier__n_estimators': [50, 100],\n",
    "              'randomforestclassifier__min_samples_leaf': [1, 5]}\n",
    "gs = GridSearchCV(pipe, param_grid, cv=5)"
   ]
  },
  {
   "cell_type": "code",
   "execution_count": 17,
   "metadata": {},
   "outputs": [
    {
     "data": {
      "text/plain": [
       "GridSearchCV(cv=5,\n",
       "             estimator=Pipeline(steps=[('standardscaler', StandardScaler()),\n",
       "                                       ('randomforestclassifier',\n",
       "                                        RandomForestClassifier(random_state=2018))]),\n",
       "             param_grid={'randomforestclassifier__min_samples_leaf': [1, 5],\n",
       "                         'randomforestclassifier__n_estimators': [50, 100]})"
      ]
     },
     "execution_count": 17,
     "metadata": {},
     "output_type": "execute_result"
    }
   ],
   "source": [
    "gs.fit(X_train, y_train.values.ravel())"
   ]
  },
  {
   "cell_type": "code",
   "execution_count": 18,
   "metadata": {},
   "outputs": [],
   "source": [
    "from sklearn.metrics import f1_score"
   ]
  },
  {
   "cell_type": "code",
   "execution_count": 19,
   "metadata": {},
   "outputs": [
    {
     "data": {
      "text/plain": [
       "0.7625527628549501"
      ]
     },
     "execution_count": 19,
     "metadata": {},
     "output_type": "execute_result"
    }
   ],
   "source": [
    "in_sample_preds = gs.predict(X_train)\n",
    "f1_score(y_train, in_sample_preds, average='micro')"
   ]
  },
  {
   "cell_type": "code",
   "execution_count": 20,
   "metadata": {},
   "outputs": [
    {
     "data": {
      "text/plain": [
       "0.7266936551485965"
      ]
     },
     "execution_count": 20,
     "metadata": {},
     "output_type": "execute_result"
    }
   ],
   "source": [
    "in_sample_preds = gs.predict(X_test)\n",
    "f1_score(y_test, in_sample_preds, average='micro')"
   ]
  },
  {
   "cell_type": "code",
   "execution_count": 21,
   "metadata": {},
   "outputs": [],
   "source": [
    "#test_values = pd.read_csv('test_values.csv', index_col='building_id')"
   ]
  },
  {
   "cell_type": "code",
   "execution_count": 22,
   "metadata": {},
   "outputs": [],
   "source": [
    "test_values_subset = test_values[selected_features]\n",
    "#test_values_subset = pd.get_dummies(test_values_subset)"
   ]
  },
  {
   "cell_type": "code",
   "execution_count": 23,
   "metadata": {},
   "outputs": [],
   "source": [
    "predictions = gs.predict(test_values_subset)"
   ]
  },
  {
   "cell_type": "code",
   "execution_count": 24,
   "metadata": {},
   "outputs": [],
   "source": [
    "submission_format = pd.read_csv('submission_format.csv', index_col='building_id')"
   ]
  },
  {
   "cell_type": "code",
   "execution_count": 25,
   "metadata": {},
   "outputs": [],
   "source": [
    "my_submission = pd.DataFrame(data=predictions,\n",
    "                             columns=submission_format.columns,\n",
    "                             index=submission_format.index)"
   ]
  },
  {
   "cell_type": "code",
   "execution_count": 26,
   "metadata": {},
   "outputs": [
    {
     "data": {
      "text/html": [
       "<div>\n",
       "<style scoped>\n",
       "    .dataframe tbody tr th:only-of-type {\n",
       "        vertical-align: middle;\n",
       "    }\n",
       "\n",
       "    .dataframe tbody tr th {\n",
       "        vertical-align: top;\n",
       "    }\n",
       "\n",
       "    .dataframe thead th {\n",
       "        text-align: right;\n",
       "    }\n",
       "</style>\n",
       "<table border=\"1\" class=\"dataframe\">\n",
       "  <thead>\n",
       "    <tr style=\"text-align: right;\">\n",
       "      <th></th>\n",
       "      <th>damage_grade</th>\n",
       "    </tr>\n",
       "    <tr>\n",
       "      <th>building_id</th>\n",
       "      <th></th>\n",
       "    </tr>\n",
       "  </thead>\n",
       "  <tbody>\n",
       "    <tr>\n",
       "      <th>300051</th>\n",
       "      <td>2</td>\n",
       "    </tr>\n",
       "    <tr>\n",
       "      <th>99355</th>\n",
       "      <td>2</td>\n",
       "    </tr>\n",
       "    <tr>\n",
       "      <th>890251</th>\n",
       "      <td>2</td>\n",
       "    </tr>\n",
       "    <tr>\n",
       "      <th>745817</th>\n",
       "      <td>2</td>\n",
       "    </tr>\n",
       "    <tr>\n",
       "      <th>421793</th>\n",
       "      <td>2</td>\n",
       "    </tr>\n",
       "  </tbody>\n",
       "</table>\n",
       "</div>"
      ],
      "text/plain": [
       "             damage_grade\n",
       "building_id              \n",
       "300051                  2\n",
       "99355                   2\n",
       "890251                  2\n",
       "745817                  2\n",
       "421793                  2"
      ]
     },
     "execution_count": 26,
     "metadata": {},
     "output_type": "execute_result"
    }
   ],
   "source": [
    "my_submission.head()"
   ]
  },
  {
   "cell_type": "code",
   "execution_count": 27,
   "metadata": {},
   "outputs": [],
   "source": [
    "my_submission.to_csv('submission.csv')"
   ]
  },
  {
   "cell_type": "code",
   "execution_count": 28,
   "metadata": {},
   "outputs": [
    {
     "name": "stderr",
     "output_type": "stream",
     "text": [
      "'head' is not recognized as an internal or external command,\n",
      "operable program or batch file.\n"
     ]
    }
   ],
   "source": [
    "!head submission.csv"
   ]
  },
  {
   "cell_type": "code",
   "execution_count": 29,
   "metadata": {},
   "outputs": [
    {
     "data": {
      "text/plain": [
       "2    66945\n",
       "3    16344\n",
       "1     3579\n",
       "Name: damage_grade, dtype: int64"
      ]
     },
     "execution_count": 29,
     "metadata": {},
     "output_type": "execute_result"
    }
   ],
   "source": [
    "my_submission.damage_grade.value_counts()"
   ]
  },
  {
   "cell_type": "code",
   "execution_count": 30,
   "metadata": {},
   "outputs": [],
   "source": [
    "rf_model =  RandomForestClassifier(random_state=2018)"
   ]
  },
  {
   "cell_type": "code",
   "execution_count": 31,
   "metadata": {},
   "outputs": [
    {
     "data": {
      "text/plain": [
       "RandomForestClassifier(random_state=2018)"
      ]
     },
     "execution_count": 31,
     "metadata": {},
     "output_type": "execute_result"
    }
   ],
   "source": [
    "rf_model.fit(X_train, y_train.values.ravel())"
   ]
  },
  {
   "cell_type": "code",
   "execution_count": 32,
   "metadata": {},
   "outputs": [
    {
     "data": {
      "text/plain": [
       "array([0.03003465, 0.05538934, 0.03401206, 0.03804201, 0.04124386,\n",
       "       0.03450722, 0.01899939, 0.01286136, 0.20659857, 0.26212929,\n",
       "       0.26618224])"
      ]
     },
     "execution_count": 32,
     "metadata": {},
     "output_type": "execute_result"
    }
   ],
   "source": [
    "# Gini importance\n",
    "rf_model.feature_importances_"
   ]
  },
  {
   "cell_type": "code",
   "execution_count": 37,
   "metadata": {},
   "outputs": [
    {
     "data": {
      "image/png": "[encoded data removed]",
      "text/plain": [
       "<Figure size 432x288 with 1 Axes>"
      ]
     },
     "metadata": {
      "needs_background": "light"
     },
     "output_type": "display_data"
    }
   ],
   "source": [
    "plt.bar(X_train.columns, rf_model.feature_importances_)\n",
    "plt.xlabel('Features')\n",
    "plt.ylabel('Importancia')\n",
    "plt.title('Importancia Features con RF')\n",
    "plt.xticks(rotation=90) \n",
    "plt.show()"
   ]
  },
  {
   "cell_type": "code",
   "execution_count": 82,
   "metadata": {},
   "outputs": [
    {
     "data": {
      "text/plain": [
       "[('has_secondary_use_use_police', 2.6389498152766187e-05),\n",
       " ('has_secondary_use_gov_office', 4.0770890807999716e-05),\n",
       " ('has_secondary_use_health_post', 6.0703059697975965e-05),\n",
       " ('has_secondary_use_school', 0.0001052961216058757),\n",
       " ('has_secondary_use_institution', 0.00021891247232466303),\n",
       " ('has_secondary_use_industry', 0.0003643088699113411),\n",
       " ('has_secondary_use_other', 0.001128246545364119),\n",
       " ('has_secondary_use_rental', 0.001265735678785792),\n",
       " ('has_superstructure_rc_engineered', 0.0022443017120974107),\n",
       " ('has_superstructure_cement_mortar_stone', 0.003283260006869474),\n",
       " ('has_superstructure_other', 0.0033833783453500947),\n",
       " ('has_secondary_use_hotel', 0.0035582571920332864),\n",
       " ('has_secondary_use_agriculture', 0.004706900195770254),\n",
       " ('has_superstructure_rc_non_engineered', 0.004726491997777055),\n",
       " ('has_superstructure_mud_mortar_brick', 0.005583575584741516),\n",
       " ('has_superstructure_stone_flag', 0.005675875368879471),\n",
       " ('has_secondary_use', 0.007152364201619563),\n",
       " ('has_superstructure_bamboo', 0.007195076202023247),\n",
       " ('has_superstructure_adobe_mud', 0.007245818135938943),\n",
       " ('legal_ownership_status', 0.007895248576198536),\n",
       " ('has_superstructure_cement_mortar_brick', 0.007910086823883297),\n",
       " ('plan_configuration', 0.009742602892865763),\n",
       " ('has_superstructure_timber', 0.01291657819790546),\n",
       " ('has_superstructure_mud_mortar_stone', 0.014960302745043416),\n",
       " ('count_floors_pre_eq', 0.017049456486940492),\n",
       " ('other_floor_type', 0.0200991204433194),\n",
       " ('land_surface_condition', 0.02171084925159366),\n",
       " ('roof_type', 0.02213881273487791),\n",
       " ('position', 0.02347080701209878),\n",
       " ('ground_floor_type', 0.024442280919832325),\n",
       " ('count_families', 0.026044620683833692),\n",
       " ('foundation_type', 0.026226822018109615),\n",
       " ('height_percentage', 0.05837223293382823),\n",
       " ('area_percentage', 0.1177515562760127),\n",
       " ('geo_level_1_id', 0.12319226319307224),\n",
       " ('age', 0.12512291181948398),\n",
       " ('geo_level_2_id', 0.14007754525369107),\n",
       " ('geo_level_3_id', 0.14291023965765856)]"
      ]
     },
     "execution_count": 82,
     "metadata": {},
     "output_type": "execute_result"
    }
   ],
   "source": [
    "sorted_features"
   ]
  },
  {
   "cell_type": "code",
   "execution_count": null,
   "metadata": {},
   "outputs": [],
   "source": []
  }
 ],
 "metadata": {
  "kernelspec": {
   "display_name": "Python 3",
   "language": "python",
   "name": "python3"
  },
  "language_info": {
   "codemirror_mode": {
    "name": "ipython",
    "version": 3
   },
   "file_extension": ".py",
   "mimetype": "text/x-python",
   "name": "python",
   "nbconvert_exporter": "python",
   "pygments_lexer": "ipython3",
   "version": "3.8.5"
  }
 },
 "nbformat": 4,
 "nbformat_minor": 5
}
